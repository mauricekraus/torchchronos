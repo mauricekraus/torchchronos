{
 "cells": [
  {
   "cell_type": "code",
   "execution_count": 1,
   "metadata": {},
   "outputs": [],
   "source": [
    "import numpy as np\n",
    "from torchchronos.lightning.multi_dataset_data_module import MultiDatasetDataModule, DatasetFrequency\n",
    "from torchchronos.datasets.prepareable_dataset import AeonDataset"
   ]
  },
  {
   "cell_type": "code",
   "execution_count": 2,
   "metadata": {},
   "outputs": [],
   "source": [
    "\n",
    "mdm = MultiDatasetDataModule(\n",
    "    train=[AeonDataset(\"GunPoint\", \"train\"), \n",
    "           AeonDataset(\"Wafer\", \"train\")],\n",
    "    val = 0.2, \n",
    "    test = AeonDataset(\"ArrowHead\", \"test\"),\n",
    "    batch_size=32, \n",
    "    sampling=DatasetFrequency.ALL_EQUAL)"
   ]
  },
  {
   "cell_type": "code",
   "execution_count": 3,
   "metadata": {},
   "outputs": [],
   "source": [
    "mdm.prepare_data()\n"
   ]
  },
  {
   "cell_type": "code",
   "execution_count": 4,
   "metadata": {},
   "outputs": [
    {
     "ename": "AttributeError",
     "evalue": "'MultiDatasetDataModule' object has no attribute 'train_data'",
     "output_type": "error",
     "traceback": [
      "\u001b[1;31m---------------------------------------------------------------------------\u001b[0m",
      "\u001b[1;31mAttributeError\u001b[0m                            Traceback (most recent call last)",
      "\u001b[1;32mc:\\Users\\Paul Rabich\\Documents\\HiWi\\torchchronos\\examples\\MultiDatasetModule.ipynb Cell 5\u001b[0m line \u001b[0;36m2\n\u001b[0;32m      <a href='vscode-notebook-cell:/c%3A/Users/Paul%20Rabich/Documents/HiWi/torchchronos/examples/MultiDatasetModule.ipynb#W4sZmlsZQ%3D%3D?line=0'>1</a>\u001b[0m mdm\u001b[39m.\u001b[39msetup(\u001b[39m\"\u001b[39m\u001b[39mtrain\u001b[39m\u001b[39m\"\u001b[39m)\n\u001b[1;32m----> <a href='vscode-notebook-cell:/c%3A/Users/Paul%20Rabich/Documents/HiWi/torchchronos/examples/MultiDatasetModule.ipynb#W4sZmlsZQ%3D%3D?line=1'>2</a>\u001b[0m train_loader \u001b[39m=\u001b[39m mdm\u001b[39m.\u001b[39;49mtrain_dataloader()\n\u001b[0;32m      <a href='vscode-notebook-cell:/c%3A/Users/Paul%20Rabich/Documents/HiWi/torchchronos/examples/MultiDatasetModule.ipynb#W4sZmlsZQ%3D%3D?line=2'>3</a>\u001b[0m \u001b[39mprint\u001b[39m(\u001b[39mf\u001b[39m\u001b[39m\"\u001b[39m\u001b[39mNumber of Batches: \u001b[39m\u001b[39m{\u001b[39;00m\u001b[39mlen\u001b[39m(train_loader)\u001b[39m}\u001b[39;00m\u001b[39m\"\u001b[39m)\n\u001b[0;32m      <a href='vscode-notebook-cell:/c%3A/Users/Paul%20Rabich/Documents/HiWi/torchchronos/examples/MultiDatasetModule.ipynb#W4sZmlsZQ%3D%3D?line=3'>4</a>\u001b[0m \u001b[39mprint\u001b[39m(\u001b[39mf\u001b[39m\u001b[39m\"\u001b[39m\u001b[39mBatch size: \u001b[39m\u001b[39m{\u001b[39;00mtrain_loader\u001b[39m.\u001b[39mbatch_size\u001b[39m}\u001b[39;00m\u001b[39m\"\u001b[39m)\n",
      "File \u001b[1;32m~\\Documents\\HiWi\\torchchronos\\torchchronos\\lightning\\multi_dataset_data_module.py:81\u001b[0m, in \u001b[0;36mMultiDatasetDataModule.train_dataloader\u001b[1;34m(self)\u001b[0m\n\u001b[0;32m     80\u001b[0m \u001b[39mdef\u001b[39;00m \u001b[39mtrain_dataloader\u001b[39m(\u001b[39mself\u001b[39m) \u001b[39m-\u001b[39m\u001b[39m>\u001b[39m DataLoader:\n\u001b[1;32m---> 81\u001b[0m     \u001b[39mreturn\u001b[39;00m DataLoader(dataset\u001b[39m=\u001b[39m\u001b[39mself\u001b[39;49m\u001b[39m.\u001b[39;49mtrain_data, batch_size\u001b[39m=\u001b[39m\u001b[39mself\u001b[39m\u001b[39m.\u001b[39mbatch_size, shuffle\u001b[39m=\u001b[39m\u001b[39mTrue\u001b[39;00m)\n",
      "\u001b[1;31mAttributeError\u001b[0m: 'MultiDatasetDataModule' object has no attribute 'train_data'"
     ]
    }
   ],
   "source": [
    "mdm.setup(\"train\")\n",
    "train_loader = mdm.train_dataloader()\n",
    "print(f\"Number of Batches: {len(train_loader)}\")\n",
    "print(f\"Batch size: {train_loader.batch_size}\")"
   ]
  },
  {
   "cell_type": "code",
   "execution_count": null,
   "metadata": {},
   "outputs": [
    {
     "name": "stdout",
     "output_type": "stream",
     "text": [
      "[ 25  58  21  12  45  28  11   1   6  81 107 122 180 133 171 109 196 181\n",
      " 158 120 201 296 288 270 277 243 224 258 236 269]\n"
     ]
    }
   ],
   "source": [
    "print(mdm.test_indices)"
   ]
  }
 ],
 "metadata": {
  "kernelspec": {
   "display_name": "Python 3",
   "language": "python",
   "name": "python3"
  },
  "language_info": {
   "codemirror_mode": {
    "name": "ipython",
    "version": 3
   },
   "file_extension": ".py",
   "mimetype": "text/x-python",
   "name": "python",
   "nbconvert_exporter": "python",
   "pygments_lexer": "ipython3",
   "version": "3.11.6"
  }
 },
 "nbformat": 4,
 "nbformat_minor": 2
}
