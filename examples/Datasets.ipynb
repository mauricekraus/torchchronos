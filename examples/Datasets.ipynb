{
 "cells": [
  {
   "cell_type": "markdown",
   "metadata": {},
   "source": [
    "# Dataset classes\n",
    "## Aeon Dataset"
   ]
  },
  {
   "cell_type": "code",
   "execution_count": 1,
   "metadata": {},
   "outputs": [],
   "source": [
    "\"\"\"\n",
    "The AeonClassificationDataset class is a wrapper around the UCR Time Series Classification Archive.\n",
    "It provides an easy way to load and preprocess the datasets from the archive.\n",
    "The datasets are automatically downloaded and cached the first time they are used.\n",
    "\"\"\"\n",
    "from torchchronos.datasets import AeonClassificationDataset\n",
    "from torchchronos.transforms import Compose, Shift, Scale\n",
    "\n",
    "# Load the Gunpoint dataset\n",
    "dataset = AeonClassificationDataset(name=\"GunPoint\")\n",
    "dataset.prepare()\n",
    "dataset.load()\n",
    "\n",
    "# Load the test set\n",
    "test_set = AeonClassificationDataset(name=\"GunPoint\", split=\"test\")\n",
    "# in Prepare, the dataset is downloaded and cached\n",
    "test_set.prepare()\n",
    "# in Load, the dataset is loaded into memory\n",
    "test_set.load()\n",
    "\n",
    "# Load the training set\n",
    "train_set = AeonClassificationDataset(name=\"GunPoint\", split=\"train\")\n",
    "train_set.prepare()\n",
    "train_set.load()\n",
    "\n",
    "# Add transformations to a dataset\n",
    "transform = Compose([Shift(1), Scale(2)])\n",
    "\n",
    "# either use the transform argument\n",
    "dataset = AeonClassificationDataset(name=\"GunPoint\", transform=transform)\n",
    "dataset.prepare()\n",
    "dataset.load()\n",
    "\n",
    "# or transform the dataset with the transform object\n",
    "transform.fit(dataset)\n",
    "transformed_dataset = transform(dataset)\n"
   ]
  },
  {
   "cell_type": "markdown",
   "metadata": {},
   "source": [
    "## Cached Dataset"
   ]
  },
  {
   "cell_type": "code",
   "execution_count": 6,
   "metadata": {},
   "outputs": [],
   "source": [
    "\"\"\"\n",
    "The CachedDataset loads datasets that are stored in the memory. \n",
    "It can be used to get other data than the time series in the UCR Time Series Classification Archive.\n",
    "Another use is to load datasets that have been saved with the utils.save_dataset function.\n",
    "\"\"\"\n",
    "from torchchronos.datasets import CachedDataset\n",
    "from torchchronos.datasets.utils import save_dataset\n",
    "\n",
    "# Create a dataset\n",
    "dataset = AeonClassificationDataset(name=\"GunPoint\")\n",
    "dataset.prepare()\n",
    "dataset.load()\n",
    "\n",
    "transformed_dataset = Scale(2)(dataset)\n",
    "save_dataset(transformed_dataset, \"my_own_dataset\")\n",
    "\n",
    "# Load the dataset\n",
    "cached_dataset = CachedDataset(\"my_own_dataset\")\n",
    "# In prepare is checked, whether the path to the dataset exists\n",
    "cached_dataset.prepare()\n",
    "# this loads the dataset into the memory    \n",
    "cached_dataset.load()\n",
    "\n",
    "# One can add transforms here too\n",
    "transform = Scale(2)\n",
    "cached_dataset = CachedDataset(\"my_own_dataset\", transform=transform)\n",
    "cached_dataset.prepare()\n",
    "cached_dataset.load()\n"
   ]
  }
 ],
 "metadata": {
  "kernelspec": {
   "display_name": "Python 3",
   "language": "python",
   "name": "python3"
  },
  "language_info": {
   "codemirror_mode": {
    "name": "ipython",
    "version": 3
   },
   "file_extension": ".py",
   "mimetype": "text/x-python",
   "name": "python",
   "nbconvert_exporter": "python",
   "pygments_lexer": "ipython3",
   "version": "3.11.7"
  }
 },
 "nbformat": 4,
 "nbformat_minor": 2
}
